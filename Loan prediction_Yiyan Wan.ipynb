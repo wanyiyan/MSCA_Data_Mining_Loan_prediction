{
 "cells": [
  {
   "cell_type": "code",
   "execution_count": 1,
   "metadata": {},
   "outputs": [
    {
     "name": "stderr",
     "output_type": "stream",
     "text": [
      "C:\\Users\\wanyi\\Anaconda3\\lib\\site-packages\\statsmodels\\tools\\_testing.py:19: FutureWarning: pandas.util.testing is deprecated. Use the functions in the public API at pandas.testing instead.\n",
      "  import pandas.util.testing as tm\n"
     ]
    }
   ],
   "source": [
    "# General\n",
    "import numpy as np \n",
    "import pandas as pd \n",
    "\n",
    "# data visualization\n",
    "import seaborn as sns\n",
    "%matplotlib inline\n",
    "from matplotlib import pyplot as plt\n",
    "from matplotlib import style\n",
    "\n",
    "# Algorithms\n",
    "from sklearn import linear_model\n",
    "from sklearn.linear_model import LogisticRegression\n",
    "from sklearn.ensemble import RandomForestRegressor\n",
    "from sklearn.tree import DecisionTreeRegressor\n",
    "from sklearn.ensemble import GradientBoostingRegressor\n",
    "import sklearn.model_selection as cv\n",
    "import random\n",
    "import missingno as msno\n"
   ]
  },
  {
   "cell_type": "code",
   "execution_count": 3,
   "metadata": {},
   "outputs": [
    {
     "name": "stderr",
     "output_type": "stream",
     "text": [
      "C:\\Users\\wanyi\\Anaconda3\\lib\\site-packages\\IPython\\core\\interactiveshell.py:3057: DtypeWarning: Columns (15) have mixed types.Specify dtype option on import or set low_memory=False.\n",
      "  interactivity=interactivity, compiler=compiler, result=result)\n"
     ]
    }
   ],
   "source": [
    "df_train = pd.read_csv(\"C:/Users/wanyi/Desktop/Data Mining/Assignment_3/Loan_Prediction/Submission Package/train.csv\")\n",
    "df_test = pd.read_csv(\"C:/Users/wanyi/Desktop/Data Mining/Assignment_3/Loan_Prediction/Submission Package/test.csv\")"
   ]
  },
  {
   "cell_type": "markdown",
   "metadata": {},
   "source": [
    "# Step 1: Data dropping based on:\n",
    "* 1) nature of columns\n",
    "* 2) business accumen\n",
    "* 3) proportion of missing value"
   ]
  },
  {
   "cell_type": "code",
   "execution_count": 4,
   "metadata": {},
   "outputs": [],
   "source": [
    "df_train.head()\n",
    "column_names_train = df_train.columns.tolist()\n",
    "column_names_test = df_test.columns.tolist()"
   ]
  },
  {
   "cell_type": "code",
   "execution_count": 5,
   "metadata": {},
   "outputs": [],
   "source": [
    "def cal_missing_val(df):\n",
    "    data_dict = {}\n",
    "    for col in df.columns:\n",
    "        data_dict[col] = df[col].isnull().sum()/df.shape[0]*100\n",
    "    return pd.DataFrame.from_dict(data_dict, orient='index', columns=['MissingValue'])"
   ]
  },
  {
   "cell_type": "code",
   "execution_count": 6,
   "metadata": {},
   "outputs": [
    {
     "data": {
      "text/html": [
       "<div>\n",
       "<style scoped>\n",
       "    .dataframe tbody tr th:only-of-type {\n",
       "        vertical-align: middle;\n",
       "    }\n",
       "\n",
       "    .dataframe tbody tr th {\n",
       "        vertical-align: top;\n",
       "    }\n",
       "\n",
       "    .dataframe thead th {\n",
       "        text-align: right;\n",
       "    }\n",
       "</style>\n",
       "<table border=\"1\" class=\"dataframe\">\n",
       "  <thead>\n",
       "    <tr style=\"text-align: right;\">\n",
       "      <th></th>\n",
       "      <th>MissingValue</th>\n",
       "    </tr>\n",
       "  </thead>\n",
       "  <tbody>\n",
       "    <tr>\n",
       "      <th>X26</th>\n",
       "      <td>87.21125</td>\n",
       "    </tr>\n",
       "    <tr>\n",
       "      <th>X16</th>\n",
       "      <td>69.11000</td>\n",
       "    </tr>\n",
       "    <tr>\n",
       "      <th>X25</th>\n",
       "      <td>54.70050</td>\n",
       "    </tr>\n",
       "    <tr>\n",
       "      <th>X12</th>\n",
       "      <td>15.34025</td>\n",
       "    </tr>\n",
       "    <tr>\n",
       "      <th>X8</th>\n",
       "      <td>15.31750</td>\n",
       "    </tr>\n",
       "    <tr>\n",
       "      <th>X9</th>\n",
       "      <td>15.31750</td>\n",
       "    </tr>\n",
       "    <tr>\n",
       "      <th>X13</th>\n",
       "      <td>15.25700</td>\n",
       "    </tr>\n",
       "    <tr>\n",
       "      <th>X1</th>\n",
       "      <td>15.25250</td>\n",
       "    </tr>\n",
       "    <tr>\n",
       "      <th>X10</th>\n",
       "      <td>5.99650</td>\n",
       "    </tr>\n",
       "    <tr>\n",
       "      <th>X11</th>\n",
       "      <td>4.38450</td>\n",
       "    </tr>\n",
       "    <tr>\n",
       "      <th>X30</th>\n",
       "      <td>0.06675</td>\n",
       "    </tr>\n",
       "    <tr>\n",
       "      <th>X18</th>\n",
       "      <td>0.00475</td>\n",
       "    </tr>\n",
       "    <tr>\n",
       "      <th>X21</th>\n",
       "      <td>0.00025</td>\n",
       "    </tr>\n",
       "    <tr>\n",
       "      <th>X27</th>\n",
       "      <td>0.00025</td>\n",
       "    </tr>\n",
       "    <tr>\n",
       "      <th>X28</th>\n",
       "      <td>0.00025</td>\n",
       "    </tr>\n",
       "    <tr>\n",
       "      <th>X29</th>\n",
       "      <td>0.00025</td>\n",
       "    </tr>\n",
       "    <tr>\n",
       "      <th>X31</th>\n",
       "      <td>0.00025</td>\n",
       "    </tr>\n",
       "    <tr>\n",
       "      <th>X24</th>\n",
       "      <td>0.00025</td>\n",
       "    </tr>\n",
       "    <tr>\n",
       "      <th>X23</th>\n",
       "      <td>0.00025</td>\n",
       "    </tr>\n",
       "    <tr>\n",
       "      <th>X22</th>\n",
       "      <td>0.00025</td>\n",
       "    </tr>\n",
       "    <tr>\n",
       "      <th>X17</th>\n",
       "      <td>0.00025</td>\n",
       "    </tr>\n",
       "    <tr>\n",
       "      <th>X20</th>\n",
       "      <td>0.00025</td>\n",
       "    </tr>\n",
       "    <tr>\n",
       "      <th>X19</th>\n",
       "      <td>0.00025</td>\n",
       "    </tr>\n",
       "    <tr>\n",
       "      <th>X2</th>\n",
       "      <td>0.00025</td>\n",
       "    </tr>\n",
       "    <tr>\n",
       "      <th>X15</th>\n",
       "      <td>0.00025</td>\n",
       "    </tr>\n",
       "    <tr>\n",
       "      <th>X14</th>\n",
       "      <td>0.00025</td>\n",
       "    </tr>\n",
       "    <tr>\n",
       "      <th>X7</th>\n",
       "      <td>0.00025</td>\n",
       "    </tr>\n",
       "    <tr>\n",
       "      <th>X6</th>\n",
       "      <td>0.00025</td>\n",
       "    </tr>\n",
       "    <tr>\n",
       "      <th>X5</th>\n",
       "      <td>0.00025</td>\n",
       "    </tr>\n",
       "    <tr>\n",
       "      <th>X4</th>\n",
       "      <td>0.00025</td>\n",
       "    </tr>\n",
       "    <tr>\n",
       "      <th>X3</th>\n",
       "      <td>0.00025</td>\n",
       "    </tr>\n",
       "    <tr>\n",
       "      <th>X32</th>\n",
       "      <td>0.00025</td>\n",
       "    </tr>\n",
       "  </tbody>\n",
       "</table>\n",
       "</div>"
      ],
      "text/plain": [
       "     MissingValue\n",
       "X26      87.21125\n",
       "X16      69.11000\n",
       "X25      54.70050\n",
       "X12      15.34025\n",
       "X8       15.31750\n",
       "X9       15.31750\n",
       "X13      15.25700\n",
       "X1       15.25250\n",
       "X10       5.99650\n",
       "X11       4.38450\n",
       "X30       0.06675\n",
       "X18       0.00475\n",
       "X21       0.00025\n",
       "X27       0.00025\n",
       "X28       0.00025\n",
       "X29       0.00025\n",
       "X31       0.00025\n",
       "X24       0.00025\n",
       "X23       0.00025\n",
       "X22       0.00025\n",
       "X17       0.00025\n",
       "X20       0.00025\n",
       "X19       0.00025\n",
       "X2        0.00025\n",
       "X15       0.00025\n",
       "X14       0.00025\n",
       "X7        0.00025\n",
       "X6        0.00025\n",
       "X5        0.00025\n",
       "X4        0.00025\n",
       "X3        0.00025\n",
       "X32       0.00025"
      ]
     },
     "execution_count": 6,
     "metadata": {},
     "output_type": "execute_result"
    }
   ],
   "source": [
    "data_missing=cal_missing_val(df_train)\n",
    "data_missing.sort_values(by=[\"MissingValue\"],ascending = False)"
   ]
  },
  {
   "cell_type": "code",
   "execution_count": 7,
   "metadata": {},
   "outputs": [
    {
     "data": {
      "text/html": [
       "<div>\n",
       "<style scoped>\n",
       "    .dataframe tbody tr th:only-of-type {\n",
       "        vertical-align: middle;\n",
       "    }\n",
       "\n",
       "    .dataframe tbody tr th {\n",
       "        vertical-align: top;\n",
       "    }\n",
       "\n",
       "    .dataframe thead th {\n",
       "        text-align: right;\n",
       "    }\n",
       "</style>\n",
       "<table border=\"1\" class=\"dataframe\">\n",
       "  <thead>\n",
       "    <tr style=\"text-align: right;\">\n",
       "      <th></th>\n",
       "      <th>MissingValue</th>\n",
       "    </tr>\n",
       "  </thead>\n",
       "  <tbody>\n",
       "    <tr>\n",
       "      <th>X1</th>\n",
       "      <td>100.00000</td>\n",
       "    </tr>\n",
       "    <tr>\n",
       "      <th>X16</th>\n",
       "      <td>99.98125</td>\n",
       "    </tr>\n",
       "    <tr>\n",
       "      <th>X26</th>\n",
       "      <td>82.70125</td>\n",
       "    </tr>\n",
       "    <tr>\n",
       "      <th>X25</th>\n",
       "      <td>48.38000</td>\n",
       "    </tr>\n",
       "    <tr>\n",
       "      <th>X10</th>\n",
       "      <td>5.49250</td>\n",
       "    </tr>\n",
       "    <tr>\n",
       "      <th>X11</th>\n",
       "      <td>5.47750</td>\n",
       "    </tr>\n",
       "    <tr>\n",
       "      <th>X30</th>\n",
       "      <td>0.03750</td>\n",
       "    </tr>\n",
       "    <tr>\n",
       "      <th>X29</th>\n",
       "      <td>0.00000</td>\n",
       "    </tr>\n",
       "    <tr>\n",
       "      <th>X28</th>\n",
       "      <td>0.00000</td>\n",
       "    </tr>\n",
       "    <tr>\n",
       "      <th>X27</th>\n",
       "      <td>0.00000</td>\n",
       "    </tr>\n",
       "    <tr>\n",
       "      <th>X19</th>\n",
       "      <td>0.00000</td>\n",
       "    </tr>\n",
       "    <tr>\n",
       "      <th>X24</th>\n",
       "      <td>0.00000</td>\n",
       "    </tr>\n",
       "    <tr>\n",
       "      <th>X23</th>\n",
       "      <td>0.00000</td>\n",
       "    </tr>\n",
       "    <tr>\n",
       "      <th>X22</th>\n",
       "      <td>0.00000</td>\n",
       "    </tr>\n",
       "    <tr>\n",
       "      <th>X21</th>\n",
       "      <td>0.00000</td>\n",
       "    </tr>\n",
       "    <tr>\n",
       "      <th>X31</th>\n",
       "      <td>0.00000</td>\n",
       "    </tr>\n",
       "    <tr>\n",
       "      <th>X20</th>\n",
       "      <td>0.00000</td>\n",
       "    </tr>\n",
       "    <tr>\n",
       "      <th>X17</th>\n",
       "      <td>0.00000</td>\n",
       "    </tr>\n",
       "    <tr>\n",
       "      <th>X18</th>\n",
       "      <td>0.00000</td>\n",
       "    </tr>\n",
       "    <tr>\n",
       "      <th>X2</th>\n",
       "      <td>0.00000</td>\n",
       "    </tr>\n",
       "    <tr>\n",
       "      <th>X15</th>\n",
       "      <td>0.00000</td>\n",
       "    </tr>\n",
       "    <tr>\n",
       "      <th>X14</th>\n",
       "      <td>0.00000</td>\n",
       "    </tr>\n",
       "    <tr>\n",
       "      <th>X13</th>\n",
       "      <td>0.00000</td>\n",
       "    </tr>\n",
       "    <tr>\n",
       "      <th>X12</th>\n",
       "      <td>0.00000</td>\n",
       "    </tr>\n",
       "    <tr>\n",
       "      <th>X9</th>\n",
       "      <td>0.00000</td>\n",
       "    </tr>\n",
       "    <tr>\n",
       "      <th>X8</th>\n",
       "      <td>0.00000</td>\n",
       "    </tr>\n",
       "    <tr>\n",
       "      <th>X7</th>\n",
       "      <td>0.00000</td>\n",
       "    </tr>\n",
       "    <tr>\n",
       "      <th>X6</th>\n",
       "      <td>0.00000</td>\n",
       "    </tr>\n",
       "    <tr>\n",
       "      <th>X5</th>\n",
       "      <td>0.00000</td>\n",
       "    </tr>\n",
       "    <tr>\n",
       "      <th>X4</th>\n",
       "      <td>0.00000</td>\n",
       "    </tr>\n",
       "    <tr>\n",
       "      <th>X3</th>\n",
       "      <td>0.00000</td>\n",
       "    </tr>\n",
       "    <tr>\n",
       "      <th>X32</th>\n",
       "      <td>0.00000</td>\n",
       "    </tr>\n",
       "  </tbody>\n",
       "</table>\n",
       "</div>"
      ],
      "text/plain": [
       "     MissingValue\n",
       "X1      100.00000\n",
       "X16      99.98125\n",
       "X26      82.70125\n",
       "X25      48.38000\n",
       "X10       5.49250\n",
       "X11       5.47750\n",
       "X30       0.03750\n",
       "X29       0.00000\n",
       "X28       0.00000\n",
       "X27       0.00000\n",
       "X19       0.00000\n",
       "X24       0.00000\n",
       "X23       0.00000\n",
       "X22       0.00000\n",
       "X21       0.00000\n",
       "X31       0.00000\n",
       "X20       0.00000\n",
       "X17       0.00000\n",
       "X18       0.00000\n",
       "X2        0.00000\n",
       "X15       0.00000\n",
       "X14       0.00000\n",
       "X13       0.00000\n",
       "X12       0.00000\n",
       "X9        0.00000\n",
       "X8        0.00000\n",
       "X7        0.00000\n",
       "X6        0.00000\n",
       "X5        0.00000\n",
       "X4        0.00000\n",
       "X3        0.00000\n",
       "X32       0.00000"
      ]
     },
     "execution_count": 7,
     "metadata": {},
     "output_type": "execute_result"
    }
   ],
   "source": [
    "data_missing=cal_missing_val(df_test)\n",
    "data_missing.sort_values(by=[\"MissingValue\"], ascending = False)"
   ]
  },
  {
   "cell_type": "code",
   "execution_count": 8,
   "metadata": {},
   "outputs": [
    {
     "data": {
      "text/plain": [
       "<matplotlib.axes._subplots.AxesSubplot at 0x1eca890a668>"
      ]
     },
     "execution_count": 8,
     "metadata": {},
     "output_type": "execute_result"
    },
    {
     "data": {
      "image/png": "[encoded data removed]",
      "text/plain": [
       "<Figure size 1800x720 with 2 Axes>"
      ]
     },
     "metadata": {
      "needs_background": "light"
     },
     "output_type": "display_data"
    },
    {
     "data": {
      "image/png": "[encoded data removed]",
      "text/plain": [
       "<Figure size 1800x720 with 2 Axes>"
      ]
     },
     "metadata": {
      "needs_background": "light"
     },
     "output_type": "display_data"
    }
   ],
   "source": [
    "msno.matrix(df_train[column_names_train])\n",
    "msno.matrix(df_test[column_names_test])"
   ]
  },
  {
   "cell_type": "code",
   "execution_count": 9,
   "metadata": {},
   "outputs": [],
   "source": [
    "# text, symbol, data formating cleaning \n",
    "data = [df_train, df_test]\n",
    "for dataset in data:\n",
    "    dataset.X1 = dataset.X1.replace('%','',regex = True).astype(float)/100\n",
    "    dataset.X4 = dataset.X4.replace('[\\$,]','',regex = True).astype(float)\n",
    "    dataset.X5 = dataset.X5.replace('[$,]','',regex = True).astype(float)\n",
    "    dataset.X6 = dataset.X6.replace('[\\$,]','',regex = True).astype(float)\n",
    "    dataset.X30 = dataset.X30.replace('%','',regex = True).astype(float)\n",
    "    dataset.X13 = dataset.X13.astype(float)\n",
    "    "
   ]
  },
  {
   "cell_type": "code",
   "execution_count": 10,
   "metadata": {},
   "outputs": [],
   "source": [
    "# Dropping high NA columns OR useless columns (such as loan id, date loan was issued,loan title, job title) for both train and test.\n",
    "data = [df_train,df_test]\n",
    "\n",
    "df_train = df_train.drop(columns = ['X2','X3','X10','X15','X16','X18','X23','X25','X26'])\n",
    "df_test = df_test.drop(columns = ['X2','X3','X10','X15','X16','X18','X23','X25','X26'])"
   ]
  },
  {
   "cell_type": "code",
   "execution_count": 11,
   "metadata": {},
   "outputs": [
    {
     "data": {
      "text/plain": [
       "'\\nmsno.matrix(df_train[df_train.columns])\\nmsno.matrix(df_test[df_test.columns])\\n'"
      ]
     },
     "execution_count": 11,
     "metadata": {},
     "output_type": "execute_result"
    }
   ],
   "source": [
    "'''\n",
    "msno.matrix(df_train[df_train.columns])\n",
    "msno.matrix(df_test[df_test.columns])\n",
    "'''"
   ]
  },
  {
   "cell_type": "code",
   "execution_count": 12,
   "metadata": {},
   "outputs": [],
   "source": [
    "# Removing if the rows have more than 10 value missing \n",
    "df_test = df_test[df_test.isnull().sum(axis=1) < 10]\n",
    "df_train = df_train[df_train.isnull().sum(axis=1) < 10]"
   ]
  },
  {
   "cell_type": "code",
   "execution_count": 13,
   "metadata": {},
   "outputs": [
    {
     "name": "stdout",
     "output_type": "stream",
     "text": [
      "(80000, 23)\n"
     ]
    },
    {
     "data": {
      "text/plain": [
       "(399999, 23)"
      ]
     },
     "execution_count": 13,
     "metadata": {},
     "output_type": "execute_result"
    }
   ],
   "source": [
    "print(df_test.shape)\n",
    "df_train.shape"
   ]
  },
  {
   "cell_type": "markdown",
   "metadata": {},
   "source": [
    "# Step 2: Missing value imputation"
   ]
  },
  {
   "cell_type": "code",
   "execution_count": 14,
   "metadata": {},
   "outputs": [
    {
     "data": {
      "text/html": [
       "<div>\n",
       "<style scoped>\n",
       "    .dataframe tbody tr th:only-of-type {\n",
       "        vertical-align: middle;\n",
       "    }\n",
       "\n",
       "    .dataframe tbody tr th {\n",
       "        vertical-align: top;\n",
       "    }\n",
       "\n",
       "    .dataframe thead th {\n",
       "        text-align: right;\n",
       "    }\n",
       "</style>\n",
       "<table border=\"1\" class=\"dataframe\">\n",
       "  <thead>\n",
       "    <tr style=\"text-align: right;\">\n",
       "      <th></th>\n",
       "      <th>MissingValue</th>\n",
       "    </tr>\n",
       "  </thead>\n",
       "  <tbody>\n",
       "    <tr>\n",
       "      <th>X12</th>\n",
       "      <td>15.340038</td>\n",
       "    </tr>\n",
       "    <tr>\n",
       "      <th>X8</th>\n",
       "      <td>15.317288</td>\n",
       "    </tr>\n",
       "    <tr>\n",
       "      <th>X9</th>\n",
       "      <td>15.317288</td>\n",
       "    </tr>\n",
       "    <tr>\n",
       "      <th>X13</th>\n",
       "      <td>15.256788</td>\n",
       "    </tr>\n",
       "    <tr>\n",
       "      <th>X1</th>\n",
       "      <td>15.252538</td>\n",
       "    </tr>\n",
       "    <tr>\n",
       "      <th>X11</th>\n",
       "      <td>4.384261</td>\n",
       "    </tr>\n",
       "    <tr>\n",
       "      <th>X30</th>\n",
       "      <td>0.066500</td>\n",
       "    </tr>\n",
       "    <tr>\n",
       "      <th>X21</th>\n",
       "      <td>0.000000</td>\n",
       "    </tr>\n",
       "    <tr>\n",
       "      <th>X31</th>\n",
       "      <td>0.000000</td>\n",
       "    </tr>\n",
       "    <tr>\n",
       "      <th>X29</th>\n",
       "      <td>0.000000</td>\n",
       "    </tr>\n",
       "  </tbody>\n",
       "</table>\n",
       "</div>"
      ],
      "text/plain": [
       "     MissingValue\n",
       "X12     15.340038\n",
       "X8      15.317288\n",
       "X9      15.317288\n",
       "X13     15.256788\n",
       "X1      15.252538\n",
       "X11      4.384261\n",
       "X30      0.066500\n",
       "X21      0.000000\n",
       "X31      0.000000\n",
       "X29      0.000000"
      ]
     },
     "execution_count": 14,
     "metadata": {},
     "output_type": "execute_result"
    }
   ],
   "source": [
    "data_missing=cal_missing_val(df_train)\n",
    "data_missing.sort_values(by=[\"MissingValue\"], ascending = False).head(10)"
   ]
  },
  {
   "cell_type": "code",
   "execution_count": 15,
   "metadata": {},
   "outputs": [
    {
     "data": {
      "text/html": [
       "<div>\n",
       "<style scoped>\n",
       "    .dataframe tbody tr th:only-of-type {\n",
       "        vertical-align: middle;\n",
       "    }\n",
       "\n",
       "    .dataframe tbody tr th {\n",
       "        vertical-align: top;\n",
       "    }\n",
       "\n",
       "    .dataframe thead th {\n",
       "        text-align: right;\n",
       "    }\n",
       "</style>\n",
       "<table border=\"1\" class=\"dataframe\">\n",
       "  <thead>\n",
       "    <tr style=\"text-align: right;\">\n",
       "      <th></th>\n",
       "      <th>MissingValue</th>\n",
       "    </tr>\n",
       "  </thead>\n",
       "  <tbody>\n",
       "    <tr>\n",
       "      <th>X1</th>\n",
       "      <td>100.0000</td>\n",
       "    </tr>\n",
       "    <tr>\n",
       "      <th>X11</th>\n",
       "      <td>5.4775</td>\n",
       "    </tr>\n",
       "    <tr>\n",
       "      <th>X30</th>\n",
       "      <td>0.0375</td>\n",
       "    </tr>\n",
       "    <tr>\n",
       "      <th>X19</th>\n",
       "      <td>0.0000</td>\n",
       "    </tr>\n",
       "    <tr>\n",
       "      <th>X31</th>\n",
       "      <td>0.0000</td>\n",
       "    </tr>\n",
       "  </tbody>\n",
       "</table>\n",
       "</div>"
      ],
      "text/plain": [
       "     MissingValue\n",
       "X1       100.0000\n",
       "X11        5.4775\n",
       "X30        0.0375\n",
       "X19        0.0000\n",
       "X31        0.0000"
      ]
     },
     "execution_count": 15,
     "metadata": {},
     "output_type": "execute_result"
    }
   ],
   "source": [
    "data_missing=cal_missing_val(df_test)\n",
    "data_missing.sort_values(by=[\"MissingValue\"], ascending = False).head()"
   ]
  },
  {
   "cell_type": "code",
   "execution_count": 16,
   "metadata": {},
   "outputs": [
    {
     "data": {
      "text/plain": [
       "<matplotlib.axes._subplots.AxesSubplot at 0x1eca3c9e4a8>"
      ]
     },
     "execution_count": 16,
     "metadata": {},
     "output_type": "execute_result"
    },
    {
     "data": {
      "image/png": "[encoded data removed]",
      "text/plain": [
       "<Figure size 432x288 with 1 Axes>"
      ]
     },
     "metadata": {
      "needs_background": "light"
     },
     "output_type": "display_data"
    }
   ],
   "source": [
    "df_train.boxplot()"
   ]
  },
  {
   "cell_type": "markdown",
   "metadata": {},
   "source": [
    "Based on the summary above: \n",
    "* For training: imputing columns X8,X9,X11,X12,X13\n",
    "* For testing: imputing columns X11"
   ]
  },
  {
   "cell_type": "markdown",
   "metadata": {},
   "source": [
    "X13 annual income inputing with median "
   ]
  },
  {
   "cell_type": "code",
   "execution_count": 17,
   "metadata": {},
   "outputs": [
    {
     "data": {
      "text/plain": [
       "count    3.389720e+05\n",
       "mean     7.316015e+04\n",
       "std      5.586770e+04\n",
       "min      3.000000e+03\n",
       "25%      4.500000e+04\n",
       "50%      6.300000e+04\n",
       "75%      8.820000e+04\n",
       "max      7.500000e+06\n",
       "Name: X13, dtype: float64"
      ]
     },
     "execution_count": 17,
     "metadata": {},
     "output_type": "execute_result"
    }
   ],
   "source": [
    "df_train['X13'].describe()"
   ]
  },
  {
   "cell_type": "code",
   "execution_count": 18,
   "metadata": {},
   "outputs": [],
   "source": [
    "# Fill X13 annual income with median. Mean is not appropriate as X13 has outliers. \n",
    "fillvalue = np.nanmedian(df_train['X13'])\n",
    "df_train['X13'].fillna(fillvalue, inplace=True)"
   ]
  },
  {
   "cell_type": "code",
   "execution_count": 19,
   "metadata": {},
   "outputs": [],
   "source": [
    "fillvalue = np.nanmedian(df_test['X13'])\n",
    "df_test['X13'].fillna(fillvalue, inplace=True)"
   ]
  },
  {
   "cell_type": "markdown",
   "metadata": {},
   "source": [
    "X11 number of years of working median "
   ]
  },
  {
   "cell_type": "code",
   "execution_count": 20,
   "metadata": {},
   "outputs": [],
   "source": [
    "df_train.X11 = df_train.X11.replace('n/a','',regex = True)"
   ]
  },
  {
   "cell_type": "code",
   "execution_count": 21,
   "metadata": {},
   "outputs": [],
   "source": [
    "from scipy import stats\n",
    "m1 = stats.mode(df_train.X11.to_numpy())\n",
    "df_train['X11'].fillna(m1[0][0], inplace=True)"
   ]
  },
  {
   "cell_type": "code",
   "execution_count": 22,
   "metadata": {},
   "outputs": [],
   "source": [
    "m2 = stats.mode(df_test.X11.to_numpy())\n",
    "df_test['X11'].fillna(m2[0][0], inplace=True)"
   ]
  },
  {
   "cell_type": "code",
   "execution_count": 23,
   "metadata": {},
   "outputs": [],
   "source": [
    "data = [df_train, df_test]\n",
    "for dataset in data:\n",
    "    dataset.X11 = dataset.X11.replace('years','',regex = True)\n",
    "    dataset.X11 = dataset.X11.replace('year','',regex = True)\n",
    "    dataset.X11 = dataset.X11.replace('< 1','1',regex = True)\n",
    "    #dataset.X11 = dataset.X11.replace('','',regex = True)"
   ]
  },
  {
   "cell_type": "code",
   "execution_count": 24,
   "metadata": {},
   "outputs": [
    {
     "data": {
      "image/png": "[encoded data removed]",
      "text/plain": [
       "<Figure size 432x288 with 1 Axes>"
      ]
     },
     "metadata": {},
     "output_type": "display_data"
    }
   ],
   "source": [
    "loan_cat = df_train['X11'].value_counts()\n",
    "sns.set(style=\"darkgrid\")\n",
    "ax = sns.barplot(loan_cat.index, loan_cat.values, alpha=0.9,)\n",
    "ax.set_xticklabels(ax.get_xticklabels(), rotation=40, ha=\"right\") #make the x axis readable \n",
    "plt.title('Frequency Loan Category')\n",
    "plt.ylabel('Number of Occurrences', fontsize=12)\n",
    "plt.xlabel('Loan Category', fontsize=12)\n",
    "plt.show()"
   ]
  },
  {
   "cell_type": "code",
   "execution_count": 25,
   "metadata": {},
   "outputs": [
    {
     "data": {
      "image/png": "[encoded data removed]",
      "text/plain": [
       "<Figure size 432x288 with 1 Axes>"
      ]
     },
     "metadata": {},
     "output_type": "display_data"
    }
   ],
   "source": [
    "loan_cat = df_test['X11'].value_counts()\n",
    "sns.set(style=\"darkgrid\")\n",
    "ax = sns.barplot(loan_cat.index, loan_cat.values, alpha=0.9,)\n",
    "ax.set_xticklabels(ax.get_xticklabels(), rotation=40, ha=\"right\") #make the x axis readable \n",
    "plt.title('Frequency Loan Category')\n",
    "plt.ylabel('Number of Occurrences', fontsize=12)\n",
    "plt.xlabel('Loan Category', fontsize=12)\n",
    "plt.show()"
   ]
  },
  {
   "cell_type": "code",
   "execution_count": 26,
   "metadata": {},
   "outputs": [],
   "source": [
    "df_train = pd.get_dummies(df_train, columns = ['X11'])\n",
    "df_test = pd.get_dummies(df_test, columns = ['X11'])"
   ]
  },
  {
   "cell_type": "markdown",
   "metadata": {},
   "source": [
    "X8 and X9 are important based on annual income (X13) as this is the major factor to impact the credit rating."
   ]
  },
  {
   "cell_type": "code",
   "execution_count": 27,
   "metadata": {},
   "outputs": [],
   "source": [
    "loan_grade={'A': 1,'B': 2, 'C': 3,'D': 4, 'E': 5, 'F': 6, 'G': 7}\n",
    "loan_subgrade = {'A1': 11, 'A2': 12, 'A3': 13, 'A4': 14, 'A5': 15,\n",
    "'B1': 21, 'B2': 22, 'B3': 23, 'B4': 24, 'B5': 25,\n",
    "'C1': 31,'C2': 32, 'C3': 33, 'C4': 34, 'C5': 35,\n",
    "'D1': 41, 'D2': 42, 'D3': 43, 'D4': 44, 'D5': 45,\n",
    "'E1': 51, 'E2': 52,'E3': 53, 'E4': 54, 'E5': 55,\n",
    "'F1': 61, 'F2': 62, 'F3': 63, 'F4': 64, 'F5': 66,\n",
    "'G1': 71, 'G2': 71, 'G3': 73,'G4': 74, 'G5': 75}"
   ]
  },
  {
   "cell_type": "code",
   "execution_count": 28,
   "metadata": {},
   "outputs": [],
   "source": [
    "data = [df_train, df_test]\n",
    "for dataset in data:\n",
    "    dataset['X8'] = dataset['X8'].map(loan_grade)\n",
    "    dataset['X9'] = dataset['X9'].map(loan_subgrade)"
   ]
  },
  {
   "cell_type": "code",
   "execution_count": 29,
   "metadata": {},
   "outputs": [],
   "source": [
    "# CREATE A RANGE FOR INCOME ??????????\n",
    "\n"
   ]
  },
  {
   "cell_type": "code",
   "execution_count": 30,
   "metadata": {},
   "outputs": [],
   "source": [
    "#Step 1 Get missing values filled from similar customer by groupby\n",
    "df_train['X9'] = df_train.groupby('X13')['X9'].transform(lambda x: x.fillna(stats.mode(x)[0][0]))\n",
    "df_train['X8'] = df_train.groupby('X13')['X8'].transform(lambda x: x.fillna(stats.mode(x)[0][0]))"
   ]
  },
  {
   "cell_type": "code",
   "execution_count": 31,
   "metadata": {},
   "outputs": [],
   "source": [
    "#Step 2 get missing values filled by median\n",
    "df_train['X9'].fillna(np.nanmedian(df_train['X9']), inplace=True)\n",
    "df_train['X8'].fillna(np.nanmedian(df_train['X8']), inplace=True)"
   ]
  },
  {
   "cell_type": "code",
   "execution_count": 32,
   "metadata": {},
   "outputs": [
    {
     "data": {
      "text/plain": [
       "0"
      ]
     },
     "execution_count": 32,
     "metadata": {},
     "output_type": "execute_result"
    }
   ],
   "source": [
    "# checking no missing value after step 1 and 2 \n",
    "df_train['X8'].isnull().sum()\n",
    "df_train['X9'].isnull().sum()"
   ]
  },
  {
   "cell_type": "markdown",
   "metadata": {},
   "source": [
    "X12 Inputation NA with \"NONE\" --> one hot encoding - drop useless columns "
   ]
  },
  {
   "cell_type": "code",
   "execution_count": 33,
   "metadata": {},
   "outputs": [],
   "source": [
    "df_train['X12'].fillna('NONE', inplace = True)\n",
    "df_test['X12'].fillna('NONE', inplace = True)\n",
    "df_train = pd.get_dummies(df_train, columns =['X12']) \n",
    "df_train = df_train.drop(['X12_NONE','X12_ANY','X12_OTHER'], axis= 1)\n",
    "df_test = pd.get_dummies(df_test, columns =['X12'])"
   ]
  },
  {
   "cell_type": "markdown",
   "metadata": {},
   "source": [
    "x14 --> label encoding --> one hot encoding "
   ]
  },
  {
   "cell_type": "code",
   "execution_count": 34,
   "metadata": {},
   "outputs": [],
   "source": [
    "Verification= {'VERIFIED - income': 0,'not verified': 1,'VERIFIED - income source': 2}\n",
    "df_train['X14'] = df_train['X14'].map(Verification)\n",
    "df_train = pd.get_dummies(df_train, columns =['X14']) \n",
    "df_test['X14'] = df_test['X14'].map(Verification)\n",
    "df_test = pd.get_dummies(df_test, columns =['X14']) "
   ]
  },
  {
   "cell_type": "markdown",
   "metadata": {},
   "source": [
    "X7 --> delete month "
   ]
  },
  {
   "cell_type": "code",
   "execution_count": 35,
   "metadata": {},
   "outputs": [],
   "source": [
    "data = [df_train, df_test]\n",
    "for dataset in data:\n",
    "    dataset.X7 = dataset.X7.replace('months','',regex = True)\n",
    "    dataset.X7 = dataset.X7.replace('36','0',regex = True)\n",
    "    dataset.X7 = dataset.X7.replace('60','1',regex = True)\n",
    "    dataset.X7 = dataset.X7.astype(int)"
   ]
  },
  {
   "cell_type": "code",
   "execution_count": 36,
   "metadata": {},
   "outputs": [
    {
     "data": {
      "text/plain": [
       "0"
      ]
     },
     "execution_count": 36,
     "metadata": {},
     "output_type": "execute_result"
    }
   ],
   "source": [
    "df_train['X7'].isnull().sum()\n",
    "df_test['X7'].isnull().sum()"
   ]
  },
  {
   "cell_type": "markdown",
   "metadata": {},
   "source": [
    "X17 --> since no missing value --> one hot encoding --> delete useless columns (count <50000)"
   ]
  },
  {
   "cell_type": "code",
   "execution_count": 37,
   "metadata": {},
   "outputs": [
    {
     "data": {
      "image/png": "[encoded data removed]",
      "text/plain": [
       "<Figure size 432x288 with 1 Axes>"
      ]
     },
     "metadata": {},
     "output_type": "display_data"
    }
   ],
   "source": [
    "loan_cat = df_train['X17'].value_counts()\n",
    "sns.set(style=\"darkgrid\")\n",
    "ax = sns.barplot(loan_cat.index, loan_cat.values, alpha=0.9,)\n",
    "ax.set_xticklabels(ax.get_xticklabels(), rotation=40, ha=\"right\") #make the x axis readable \n",
    "plt.title('Frequency Loan Category')\n",
    "plt.ylabel('Number of Occurrences', fontsize=12)\n",
    "plt.xlabel('Loan Category', fontsize=12)\n",
    "plt.show()"
   ]
  },
  {
   "cell_type": "code",
   "execution_count": 38,
   "metadata": {},
   "outputs": [],
   "source": [
    "df_train = pd.get_dummies(df_train, columns = ['X17'])\n",
    "df_test = pd.get_dummies(df_test, columns = ['X17'])"
   ]
  },
  {
   "cell_type": "code",
   "execution_count": 39,
   "metadata": {},
   "outputs": [],
   "source": [
    "df_train = df_train.drop(['X17_car', 'X17_home_improvement','X17_small_business', 'X17_major_purchase', 'X17_other', 'X17_house', 'X17_vacation',\n",
    "'X17_educational', 'X17_moving', 'X17_wedding', 'X17_medical','X17_renewable_energy'], axis = 1)"
   ]
  },
  {
   "cell_type": "code",
   "execution_count": 40,
   "metadata": {},
   "outputs": [],
   "source": [
    "df_test = df_test.drop(['X17_car', 'X17_home_improvement',\n",
    "'X17_small_business', 'X17_major_purchase', 'X17_other', 'X17_house', 'X17_vacation',\n",
    "'X17_moving', 'X17_wedding', 'X17_medical', 'X17_renewable_energy'], axis = 1)"
   ]
  },
  {
   "cell_type": "markdown",
   "metadata": {},
   "source": [
    "X20 --> since no missing value --> one hot encoding --> delete useless columns (any counts below 1000)"
   ]
  },
  {
   "cell_type": "code",
   "execution_count": 41,
   "metadata": {},
   "outputs": [
    {
     "data": {
      "image/png": "[encoded data removed]",
      "text/plain": [
       "<Figure size 1080x720 with 1 Axes>"
      ]
     },
     "metadata": {},
     "output_type": "display_data"
    }
   ],
   "source": [
    "fig = plt.figure(figsize=(15,10)) #enlarge the plot\n",
    "loan_cat = df_train['X20'].value_counts()\n",
    "sns.set(style=\"darkgrid\")\n",
    "ax = sns.barplot(loan_cat.index, loan_cat.values, alpha=0.9,)\n",
    "ax.set_xticklabels(ax.get_xticklabels(), rotation=40, ha=\"right\") #make the x axis readable \n",
    "plt.title('Frequency Loan Category')\n",
    "plt.ylabel('Number of Occurrences', fontsize=12)\n",
    "plt.xlabel('Loan Category', fontsize=12)\n",
    "plt.show()"
   ]
  },
  {
   "cell_type": "code",
   "execution_count": 42,
   "metadata": {},
   "outputs": [
    {
     "data": {
      "image/png": "[encoded data removed]",
      "text/plain": [
       "<Figure size 1080x720 with 1 Axes>"
      ]
     },
     "metadata": {},
     "output_type": "display_data"
    }
   ],
   "source": [
    "fig = plt.figure(figsize=(15,10)) #enlarge the plot\n",
    "loan_cat = df_test['X20'].value_counts()\n",
    "sns.set(style=\"darkgrid\")\n",
    "ax = sns.barplot(loan_cat.index, loan_cat.values, alpha=0.9,)\n",
    "ax.set_xticklabels(ax.get_xticklabels(), rotation=40, ha=\"right\") #make the x axis readable \n",
    "plt.title('Frequency Loan Category')\n",
    "plt.ylabel('Number of Occurrences', fontsize=12)\n",
    "plt.xlabel('Loan Category', fontsize=12)\n",
    "plt.show()"
   ]
  },
  {
   "cell_type": "code",
   "execution_count": 43,
   "metadata": {},
   "outputs": [
    {
     "name": "stdout",
     "output_type": "stream",
     "text": [
      "Index(['CA', 'NY', 'TX', 'FL', 'IL', 'NJ', 'PA', 'OH', 'GA', 'VA', 'NC'], dtype='object')\n",
      "Index(['CA', 'TX', 'NY', 'FL', 'IL', 'PA', 'NJ', 'OH', 'GA', 'NC', 'VA'], dtype='object')\n"
     ]
    }
   ],
   "source": [
    "train_state = df_train['X20'].value_counts().index[df_train['X20'].value_counts().values > 10000]\n",
    "test_state = df_test['X20'].value_counts().index[df_test['X20'].value_counts().values > 2200] #to make two lists identical \n",
    "print(train_state)\n",
    "print(test_state)"
   ]
  },
  {
   "cell_type": "code",
   "execution_count": 44,
   "metadata": {},
   "outputs": [],
   "source": [
    "df_train = pd.get_dummies(df_train, columns = ['X20'])\n",
    "df_test = pd.get_dummies(df_test, columns = ['X20'])"
   ]
  },
  {
   "cell_type": "code",
   "execution_count": 45,
   "metadata": {},
   "outputs": [],
   "source": [
    "df_train = df_train.drop(['X20_MI','X20_AZ','X20_AZ','X20_WA','X20_MD','X20_CO','X20_MA','X20_MN','X20_IN','X20_TN','X20_MO',\n",
    "                         'X20_NV','X20_WI','X20_OR','X20_CT','X20_LA','X20_AL','X20_SC','X20_KY','X20_KS','X20_OK','X20_UT',\n",
    "                         'X20_AR','X20_NM','X20_MS','X20_HI','X20_WV','X20_RI','X20_NH','X20_MT','X20_DE','X20_WY','X20_AK',\n",
    "                          'X20_DC','X20_VT','X20_SD','X20_ME','X20_IA','X20_ID','X20_NE'], axis = 1)"
   ]
  },
  {
   "cell_type": "code",
   "execution_count": 46,
   "metadata": {},
   "outputs": [],
   "source": [
    "df_test = df_test.drop(['X20_MI','X20_AZ','X20_AZ','X20_WA','X20_MD','X20_CO','X20_MA','X20_MN','X20_IN','X20_TN','X20_MO',\n",
    "                         'X20_NV','X20_WI','X20_OR','X20_CT','X20_LA','X20_AL','X20_SC','X20_KY','X20_KS','X20_OK','X20_UT',\n",
    "                         'X20_AR','X20_NM','X20_MS','X20_HI','X20_WV','X20_RI','X20_NH','X20_MT','X20_DE','X20_WY','X20_AK',\n",
    "                          'X20_DC','X20_VT','X20_SD'], axis = 1)"
   ]
  },
  {
   "cell_type": "markdown",
   "metadata": {},
   "source": [
    "X1 --> dropping null target responses "
   ]
  },
  {
   "cell_type": "code",
   "execution_count": 47,
   "metadata": {},
   "outputs": [],
   "source": [
    "df_train = df_train[df_train['X1'].notnull()] # droping NA value in the train data"
   ]
  },
  {
   "cell_type": "markdown",
   "metadata": {},
   "source": [
    "x19 --> dropping columns as we already have state informaiton. "
   ]
  },
  {
   "cell_type": "code",
   "execution_count": 48,
   "metadata": {},
   "outputs": [],
   "source": [
    "df_train = df_train.drop('X19', axis = 1)\n",
    "df_test = df_test.drop('X19', axis = 1)"
   ]
  },
  {
   "cell_type": "markdown",
   "metadata": {},
   "source": [
    "x32 --> dropping columns as no further useful information was given and have low correlation with \n"
   ]
  },
  {
   "cell_type": "code",
   "execution_count": 49,
   "metadata": {},
   "outputs": [],
   "source": [
    "data = [df_train, df_test]\n",
    "for dataset in data:\n",
    "    dataset.X32 = dataset.X32.replace('f','0',regex = True)\n",
    "    dataset.X32 = dataset.X32.replace('w','1',regex = True)\n",
    "    dataset.X32 = dataset.X32.astype(int) "
   ]
  },
  {
   "cell_type": "code",
   "execution_count": 50,
   "metadata": {},
   "outputs": [
    {
     "data": {
      "text/plain": [
       "array([[ 1.       , -0.0097292],\n",
       "       [-0.0097292,  1.       ]])"
      ]
     },
     "execution_count": 50,
     "metadata": {},
     "output_type": "execute_result"
    }
   ],
   "source": [
    "np.corrcoef(df_train.X32,df_train.X1)"
   ]
  },
  {
   "cell_type": "code",
   "execution_count": 51,
   "metadata": {},
   "outputs": [],
   "source": [
    "df_train = df_train.drop('X32', axis = 1)\n",
    "df_test = df_test.drop('X32', axis = 1)"
   ]
  },
  {
   "cell_type": "markdown",
   "metadata": {},
   "source": [
    "X30 ---> impute with mean since only 250 missing values "
   ]
  },
  {
   "cell_type": "code",
   "execution_count": 52,
   "metadata": {},
   "outputs": [],
   "source": [
    "fillvalue131 = np.nanmean(df_train['X30'])\n",
    "df_train['X30'].fillna(fillvalue131, inplace=True)\n",
    "\n",
    "fillvalue132 = np.nanmean(df_test['X30'])\n",
    "df_test['X30'].fillna(fillvalue132, inplace=True)"
   ]
  },
  {
   "cell_type": "markdown",
   "metadata": {},
   "source": [
    "check correlations between remained features - train_data"
   ]
  },
  {
   "cell_type": "code",
   "execution_count": 53,
   "metadata": {},
   "outputs": [
    {
     "data": {
      "image/png": "[encoded data removed]",
      "text/plain": [
       "<Figure size 1440x720 with 2 Axes>"
      ]
     },
     "metadata": {},
     "output_type": "display_data"
    }
   ],
   "source": [
    "corrmat = df_train.corr()\n",
    "plt.figure(figsize=(20,10))\n",
    "k = 15 #number of variables for heatmap\n",
    "cols = corrmat.nlargest(k, 'X1')['X1'].index\n",
    "cm = np.corrcoef(df_train[cols].values.T)\n",
    "sns.set(font_scale=1.25)\n",
    "hm = sns.heatmap(cm, cbar=True, annot=True, square=True, fmt='.2f', annot_kws={'size': 10}, yticklabels=cols.values, xticklabels=cols.values)\n",
    "plt.show()"
   ]
  },
  {
   "cell_type": "code",
   "execution_count": 54,
   "metadata": {},
   "outputs": [],
   "source": [
    "#df_train.to_csv('final.csv')"
   ]
  },
  {
   "cell_type": "code",
   "execution_count": 55,
   "metadata": {},
   "outputs": [
    {
     "data": {
      "text/html": [
       "<div>\n",
       "<style scoped>\n",
       "    .dataframe tbody tr th:only-of-type {\n",
       "        vertical-align: middle;\n",
       "    }\n",
       "\n",
       "    .dataframe tbody tr th {\n",
       "        vertical-align: top;\n",
       "    }\n",
       "\n",
       "    .dataframe thead th {\n",
       "        text-align: right;\n",
       "    }\n",
       "</style>\n",
       "<table border=\"1\" class=\"dataframe\">\n",
       "  <thead>\n",
       "    <tr style=\"text-align: right;\">\n",
       "      <th></th>\n",
       "      <th>MissingValue</th>\n",
       "    </tr>\n",
       "  </thead>\n",
       "  <tbody>\n",
       "    <tr>\n",
       "      <th>X1</th>\n",
       "      <td>0.0</td>\n",
       "    </tr>\n",
       "    <tr>\n",
       "      <th>X11_7</th>\n",
       "      <td>0.0</td>\n",
       "    </tr>\n",
       "    <tr>\n",
       "      <th>X11_9</th>\n",
       "      <td>0.0</td>\n",
       "    </tr>\n",
       "    <tr>\n",
       "      <th>X12_MORTGAGE</th>\n",
       "      <td>0.0</td>\n",
       "    </tr>\n",
       "    <tr>\n",
       "      <th>X12_OWN</th>\n",
       "      <td>0.0</td>\n",
       "    </tr>\n",
       "  </tbody>\n",
       "</table>\n",
       "</div>"
      ],
      "text/plain": [
       "              MissingValue\n",
       "X1                     0.0\n",
       "X11_7                  0.0\n",
       "X11_9                  0.0\n",
       "X12_MORTGAGE           0.0\n",
       "X12_OWN                0.0"
      ]
     },
     "execution_count": 55,
     "metadata": {},
     "output_type": "execute_result"
    }
   ],
   "source": [
    "data_missing=cal_missing_val(df_train)\n",
    "data_missing.sort_values(by=[\"MissingValue\"], ascending = False).head()"
   ]
  },
  {
   "cell_type": "code",
   "execution_count": null,
   "metadata": {},
   "outputs": [],
   "source": []
  },
  {
   "cell_type": "markdown",
   "metadata": {},
   "source": [
    "# Final look of Train_set and Test_set"
   ]
  },
  {
   "cell_type": "code",
   "execution_count": 56,
   "metadata": {},
   "outputs": [
    {
     "data": {
      "text/html": [
       "<div>\n",
       "<style scoped>\n",
       "    .dataframe tbody tr th:only-of-type {\n",
       "        vertical-align: middle;\n",
       "    }\n",
       "\n",
       "    .dataframe tbody tr th {\n",
       "        vertical-align: top;\n",
       "    }\n",
       "\n",
       "    .dataframe thead th {\n",
       "        text-align: right;\n",
       "    }\n",
       "</style>\n",
       "<table border=\"1\" class=\"dataframe\">\n",
       "  <thead>\n",
       "    <tr style=\"text-align: right;\">\n",
       "      <th></th>\n",
       "      <th>X1</th>\n",
       "      <th>X4</th>\n",
       "      <th>X5</th>\n",
       "      <th>X6</th>\n",
       "      <th>X7</th>\n",
       "      <th>X8</th>\n",
       "      <th>X9</th>\n",
       "      <th>X13</th>\n",
       "      <th>X21</th>\n",
       "      <th>X22</th>\n",
       "      <th>...</th>\n",
       "      <th>X20_FL</th>\n",
       "      <th>X20_GA</th>\n",
       "      <th>X20_IL</th>\n",
       "      <th>X20_NC</th>\n",
       "      <th>X20_NJ</th>\n",
       "      <th>X20_NY</th>\n",
       "      <th>X20_OH</th>\n",
       "      <th>X20_PA</th>\n",
       "      <th>X20_TX</th>\n",
       "      <th>X20_VA</th>\n",
       "    </tr>\n",
       "  </thead>\n",
       "  <tbody>\n",
       "    <tr>\n",
       "      <th>0</th>\n",
       "      <td>0.1189</td>\n",
       "      <td>25000.0</td>\n",
       "      <td>25000.0</td>\n",
       "      <td>19080.0</td>\n",
       "      <td>0</td>\n",
       "      <td>2.0</td>\n",
       "      <td>24.0</td>\n",
       "      <td>85000.0</td>\n",
       "      <td>19.48</td>\n",
       "      <td>0.0</td>\n",
       "      <td>...</td>\n",
       "      <td>0</td>\n",
       "      <td>0</td>\n",
       "      <td>0</td>\n",
       "      <td>0</td>\n",
       "      <td>0</td>\n",
       "      <td>0</td>\n",
       "      <td>0</td>\n",
       "      <td>0</td>\n",
       "      <td>0</td>\n",
       "      <td>0</td>\n",
       "    </tr>\n",
       "    <tr>\n",
       "      <th>1</th>\n",
       "      <td>0.1071</td>\n",
       "      <td>7000.0</td>\n",
       "      <td>7000.0</td>\n",
       "      <td>673.0</td>\n",
       "      <td>0</td>\n",
       "      <td>2.0</td>\n",
       "      <td>25.0</td>\n",
       "      <td>65000.0</td>\n",
       "      <td>14.29</td>\n",
       "      <td>0.0</td>\n",
       "      <td>...</td>\n",
       "      <td>0</td>\n",
       "      <td>0</td>\n",
       "      <td>0</td>\n",
       "      <td>0</td>\n",
       "      <td>0</td>\n",
       "      <td>1</td>\n",
       "      <td>0</td>\n",
       "      <td>0</td>\n",
       "      <td>0</td>\n",
       "      <td>0</td>\n",
       "    </tr>\n",
       "    <tr>\n",
       "      <th>2</th>\n",
       "      <td>0.1699</td>\n",
       "      <td>25000.0</td>\n",
       "      <td>25000.0</td>\n",
       "      <td>24725.0</td>\n",
       "      <td>0</td>\n",
       "      <td>4.0</td>\n",
       "      <td>43.0</td>\n",
       "      <td>70000.0</td>\n",
       "      <td>10.50</td>\n",
       "      <td>0.0</td>\n",
       "      <td>...</td>\n",
       "      <td>0</td>\n",
       "      <td>0</td>\n",
       "      <td>0</td>\n",
       "      <td>0</td>\n",
       "      <td>0</td>\n",
       "      <td>1</td>\n",
       "      <td>0</td>\n",
       "      <td>0</td>\n",
       "      <td>0</td>\n",
       "      <td>0</td>\n",
       "    </tr>\n",
       "    <tr>\n",
       "      <th>3</th>\n",
       "      <td>0.1311</td>\n",
       "      <td>1200.0</td>\n",
       "      <td>1200.0</td>\n",
       "      <td>1200.0</td>\n",
       "      <td>0</td>\n",
       "      <td>3.0</td>\n",
       "      <td>32.0</td>\n",
       "      <td>54000.0</td>\n",
       "      <td>5.47</td>\n",
       "      <td>0.0</td>\n",
       "      <td>...</td>\n",
       "      <td>0</td>\n",
       "      <td>0</td>\n",
       "      <td>0</td>\n",
       "      <td>0</td>\n",
       "      <td>0</td>\n",
       "      <td>0</td>\n",
       "      <td>0</td>\n",
       "      <td>0</td>\n",
       "      <td>1</td>\n",
       "      <td>0</td>\n",
       "    </tr>\n",
       "    <tr>\n",
       "      <th>4</th>\n",
       "      <td>0.1357</td>\n",
       "      <td>10800.0</td>\n",
       "      <td>10800.0</td>\n",
       "      <td>10692.0</td>\n",
       "      <td>0</td>\n",
       "      <td>3.0</td>\n",
       "      <td>33.0</td>\n",
       "      <td>32000.0</td>\n",
       "      <td>11.63</td>\n",
       "      <td>0.0</td>\n",
       "      <td>...</td>\n",
       "      <td>0</td>\n",
       "      <td>0</td>\n",
       "      <td>0</td>\n",
       "      <td>0</td>\n",
       "      <td>0</td>\n",
       "      <td>0</td>\n",
       "      <td>0</td>\n",
       "      <td>0</td>\n",
       "      <td>0</td>\n",
       "      <td>0</td>\n",
       "    </tr>\n",
       "  </tbody>\n",
       "</table>\n",
       "<p>5 rows × 45 columns</p>\n",
       "</div>"
      ],
      "text/plain": [
       "       X1       X4       X5       X6  X7   X8    X9      X13    X21  X22  ...  \\\n",
       "0  0.1189  25000.0  25000.0  19080.0   0  2.0  24.0  85000.0  19.48  0.0  ...   \n",
       "1  0.1071   7000.0   7000.0    673.0   0  2.0  25.0  65000.0  14.29  0.0  ...   \n",
       "2  0.1699  25000.0  25000.0  24725.0   0  4.0  43.0  70000.0  10.50  0.0  ...   \n",
       "3  0.1311   1200.0   1200.0   1200.0   0  3.0  32.0  54000.0   5.47  0.0  ...   \n",
       "4  0.1357  10800.0  10800.0  10692.0   0  3.0  33.0  32000.0  11.63  0.0  ...   \n",
       "\n",
       "   X20_FL  X20_GA  X20_IL  X20_NC  X20_NJ  X20_NY  X20_OH  X20_PA  X20_TX  \\\n",
       "0       0       0       0       0       0       0       0       0       0   \n",
       "1       0       0       0       0       0       1       0       0       0   \n",
       "2       0       0       0       0       0       1       0       0       0   \n",
       "3       0       0       0       0       0       0       0       0       1   \n",
       "4       0       0       0       0       0       0       0       0       0   \n",
       "\n",
       "   X20_VA  \n",
       "0       0  \n",
       "1       0  \n",
       "2       0  \n",
       "3       0  \n",
       "4       0  \n",
       "\n",
       "[5 rows x 45 columns]"
      ]
     },
     "execution_count": 56,
     "metadata": {},
     "output_type": "execute_result"
    }
   ],
   "source": [
    "df_train.head()"
   ]
  },
  {
   "cell_type": "code",
   "execution_count": 57,
   "metadata": {},
   "outputs": [
    {
     "data": {
      "text/html": [
       "<div>\n",
       "<style scoped>\n",
       "    .dataframe tbody tr th:only-of-type {\n",
       "        vertical-align: middle;\n",
       "    }\n",
       "\n",
       "    .dataframe tbody tr th {\n",
       "        vertical-align: top;\n",
       "    }\n",
       "\n",
       "    .dataframe thead th {\n",
       "        text-align: right;\n",
       "    }\n",
       "</style>\n",
       "<table border=\"1\" class=\"dataframe\">\n",
       "  <thead>\n",
       "    <tr style=\"text-align: right;\">\n",
       "      <th></th>\n",
       "      <th>X1</th>\n",
       "      <th>X4</th>\n",
       "      <th>X5</th>\n",
       "      <th>X6</th>\n",
       "      <th>X7</th>\n",
       "      <th>X8</th>\n",
       "      <th>X9</th>\n",
       "      <th>X13</th>\n",
       "      <th>X21</th>\n",
       "      <th>X22</th>\n",
       "      <th>...</th>\n",
       "      <th>X20_FL</th>\n",
       "      <th>X20_GA</th>\n",
       "      <th>X20_IL</th>\n",
       "      <th>X20_NC</th>\n",
       "      <th>X20_NJ</th>\n",
       "      <th>X20_NY</th>\n",
       "      <th>X20_OH</th>\n",
       "      <th>X20_PA</th>\n",
       "      <th>X20_TX</th>\n",
       "      <th>X20_VA</th>\n",
       "    </tr>\n",
       "  </thead>\n",
       "  <tbody>\n",
       "    <tr>\n",
       "      <th>0</th>\n",
       "      <td>NaN</td>\n",
       "      <td>6000.0</td>\n",
       "      <td>6000.0</td>\n",
       "      <td>6000.0</td>\n",
       "      <td>0</td>\n",
       "      <td>3</td>\n",
       "      <td>35</td>\n",
       "      <td>68000.0</td>\n",
       "      <td>28.31</td>\n",
       "      <td>0</td>\n",
       "      <td>...</td>\n",
       "      <td>0</td>\n",
       "      <td>0</td>\n",
       "      <td>0</td>\n",
       "      <td>0</td>\n",
       "      <td>0</td>\n",
       "      <td>0</td>\n",
       "      <td>1</td>\n",
       "      <td>0</td>\n",
       "      <td>0</td>\n",
       "      <td>0</td>\n",
       "    </tr>\n",
       "    <tr>\n",
       "      <th>1</th>\n",
       "      <td>NaN</td>\n",
       "      <td>24000.0</td>\n",
       "      <td>24000.0</td>\n",
       "      <td>24000.0</td>\n",
       "      <td>0</td>\n",
       "      <td>1</td>\n",
       "      <td>11</td>\n",
       "      <td>110480.0</td>\n",
       "      <td>16.03</td>\n",
       "      <td>0</td>\n",
       "      <td>...</td>\n",
       "      <td>0</td>\n",
       "      <td>0</td>\n",
       "      <td>0</td>\n",
       "      <td>0</td>\n",
       "      <td>0</td>\n",
       "      <td>0</td>\n",
       "      <td>0</td>\n",
       "      <td>0</td>\n",
       "      <td>0</td>\n",
       "      <td>0</td>\n",
       "    </tr>\n",
       "    <tr>\n",
       "      <th>2</th>\n",
       "      <td>NaN</td>\n",
       "      <td>35000.0</td>\n",
       "      <td>35000.0</td>\n",
       "      <td>35000.0</td>\n",
       "      <td>0</td>\n",
       "      <td>3</td>\n",
       "      <td>32</td>\n",
       "      <td>86000.0</td>\n",
       "      <td>32.49</td>\n",
       "      <td>0</td>\n",
       "      <td>...</td>\n",
       "      <td>0</td>\n",
       "      <td>0</td>\n",
       "      <td>0</td>\n",
       "      <td>0</td>\n",
       "      <td>0</td>\n",
       "      <td>0</td>\n",
       "      <td>0</td>\n",
       "      <td>1</td>\n",
       "      <td>0</td>\n",
       "      <td>0</td>\n",
       "    </tr>\n",
       "    <tr>\n",
       "      <th>3</th>\n",
       "      <td>NaN</td>\n",
       "      <td>10000.0</td>\n",
       "      <td>10000.0</td>\n",
       "      <td>10000.0</td>\n",
       "      <td>1</td>\n",
       "      <td>4</td>\n",
       "      <td>41</td>\n",
       "      <td>30000.0</td>\n",
       "      <td>32.96</td>\n",
       "      <td>0</td>\n",
       "      <td>...</td>\n",
       "      <td>0</td>\n",
       "      <td>0</td>\n",
       "      <td>0</td>\n",
       "      <td>0</td>\n",
       "      <td>0</td>\n",
       "      <td>0</td>\n",
       "      <td>0</td>\n",
       "      <td>0</td>\n",
       "      <td>0</td>\n",
       "      <td>0</td>\n",
       "    </tr>\n",
       "    <tr>\n",
       "      <th>4</th>\n",
       "      <td>NaN</td>\n",
       "      <td>24000.0</td>\n",
       "      <td>24000.0</td>\n",
       "      <td>24000.0</td>\n",
       "      <td>1</td>\n",
       "      <td>2</td>\n",
       "      <td>21</td>\n",
       "      <td>82500.0</td>\n",
       "      <td>31.03</td>\n",
       "      <td>0</td>\n",
       "      <td>...</td>\n",
       "      <td>0</td>\n",
       "      <td>0</td>\n",
       "      <td>0</td>\n",
       "      <td>0</td>\n",
       "      <td>0</td>\n",
       "      <td>0</td>\n",
       "      <td>0</td>\n",
       "      <td>1</td>\n",
       "      <td>0</td>\n",
       "      <td>0</td>\n",
       "    </tr>\n",
       "  </tbody>\n",
       "</table>\n",
       "<p>5 rows × 45 columns</p>\n",
       "</div>"
      ],
      "text/plain": [
       "   X1       X4       X5       X6  X7  X8  X9       X13    X21  X22  ...  \\\n",
       "0 NaN   6000.0   6000.0   6000.0   0   3  35   68000.0  28.31    0  ...   \n",
       "1 NaN  24000.0  24000.0  24000.0   0   1  11  110480.0  16.03    0  ...   \n",
       "2 NaN  35000.0  35000.0  35000.0   0   3  32   86000.0  32.49    0  ...   \n",
       "3 NaN  10000.0  10000.0  10000.0   1   4  41   30000.0  32.96    0  ...   \n",
       "4 NaN  24000.0  24000.0  24000.0   1   2  21   82500.0  31.03    0  ...   \n",
       "\n",
       "   X20_FL  X20_GA  X20_IL  X20_NC  X20_NJ  X20_NY  X20_OH  X20_PA  X20_TX  \\\n",
       "0       0       0       0       0       0       0       1       0       0   \n",
       "1       0       0       0       0       0       0       0       0       0   \n",
       "2       0       0       0       0       0       0       0       1       0   \n",
       "3       0       0       0       0       0       0       0       0       0   \n",
       "4       0       0       0       0       0       0       0       1       0   \n",
       "\n",
       "   X20_VA  \n",
       "0       0  \n",
       "1       0  \n",
       "2       0  \n",
       "3       0  \n",
       "4       0  \n",
       "\n",
       "[5 rows x 45 columns]"
      ]
     },
     "execution_count": 57,
     "metadata": {},
     "output_type": "execute_result"
    }
   ],
   "source": [
    "df_test.head()"
   ]
  },
  {
   "cell_type": "markdown",
   "metadata": {},
   "source": [
    "# Data Pre-processing: "
   ]
  },
  {
   "cell_type": "code",
   "execution_count": 58,
   "metadata": {},
   "outputs": [],
   "source": [
    "#Splitting train data into validation and train\n",
    "from sklearn.model_selection import train_test_split\n",
    "X_train = df_train.drop(\"X1\", axis=1)\n",
    "Y_train = df_train[\"X1\"]\n",
    "X_test = df_test.drop('X1', axis = 1)\n",
    "x_train, x_test, y_train, y_test = train_test_split(X_train,Y_train,test_size=0.2,random_state=0)"
   ]
  },
  {
   "cell_type": "markdown",
   "metadata": {},
   "source": [
    "# Model 1 - Random Forest Regressor "
   ]
  },
  {
   "cell_type": "code",
   "execution_count": 59,
   "metadata": {},
   "outputs": [],
   "source": [
    "from sklearn.ensemble import RandomForestRegressor\n",
    "from sklearn.model_selection import RandomizedSearchCV\n",
    "from sklearn.metrics import mean_squared_error as MSE\n",
    "from sklearn.model_selection import cross_val_score, GridSearchCV, cross_validate"
   ]
  },
  {
   "cell_type": "code",
   "execution_count": 60,
   "metadata": {},
   "outputs": [
    {
     "name": "stdout",
     "output_type": "stream",
     "text": [
      "Test set RMSE of rf: 0.02\n",
      "Train set RMSE of rf: 0.02\n"
     ]
    }
   ],
   "source": [
    "# Train and Test score\n",
    "rf = RandomForestRegressor(n_estimators=200, criterion = \"mse\", max_depth = 10, min_samples_split = 3, bootstrap= True, min_samples_leaf = 3, max_features = \"sqrt\")\n",
    "rf.fit(x_train, y_train)\n",
    "y_train_pred = rf.predict(x_train)\n",
    "y_test_pred = rf.predict(x_test)\n",
    "rmse_test = MSE(y_test, y_test_pred)**(1/2)\n",
    "rmse_train = MSE(y_train, y_train_pred)**(1/2)\n",
    "print('Test set RMSE of rf: {:.2f}'.format(rmse_test))\n",
    "print('Train set RMSE of rf: {:.2f}'.format(rmse_train))"
   ]
  },
  {
   "cell_type": "code",
   "execution_count": 61,
   "metadata": {},
   "outputs": [
    {
     "name": "stdout",
     "output_type": "stream",
     "text": [
      "CV RMSE: 0.02\n"
     ]
    }
   ],
   "source": [
    "# CV score \n",
    "from sklearn.model_selection import cross_val_score\n",
    "MSE_CV_scores_rf = - cross_val_score(rf, x_train, y_train, cv=10, \n",
    "                                  scoring='neg_mean_squared_error', \n",
    "                                  n_jobs=-1) \n",
    "RMSE_CV = (MSE_CV_scores_rf.mean())**(1/2)\n",
    "print('CV RMSE: {:.2f}'.format(RMSE_CV)) "
   ]
  },
  {
   "cell_type": "markdown",
   "metadata": {},
   "source": [
    "* By comparing three RMSE score above, three RMSE are super close to each other, which indicates that the hyperparameters were good enough without tunning."
   ]
  },
  {
   "cell_type": "code",
   "execution_count": 62,
   "metadata": {},
   "outputs": [
    {
     "data": {
      "image/png": "[encoded data removed]",
      "text/plain": [
       "<Figure size 432x288 with 1 Axes>"
      ]
     },
     "metadata": {},
     "output_type": "display_data"
    }
   ],
   "source": [
    "import pandas as pd\n",
    "import matplotlib.pyplot as plt\n",
    "importances_rf = pd.Series(rf.feature_importances_,index = X_train.columns)\n",
    "sorted_importances_rf = importances_rf.sort_values()\n",
    "sorted_importances_rf.plot(kind='barh', color='blue')\n",
    "plt.show()"
   ]
  },
  {
   "cell_type": "code",
   "execution_count": 63,
   "metadata": {},
   "outputs": [
    {
     "data": {
      "text/plain": [
       "X9       0.403226\n",
       "X8       0.349381\n",
       "X7       0.103393\n",
       "X30      0.047738\n",
       "X24      0.019407\n",
       "X14_1    0.012361\n",
       "X5       0.008348\n",
       "X4       0.008076\n",
       "X6       0.008040\n",
       "X14_0    0.007096\n",
       "dtype: float64"
      ]
     },
     "execution_count": 63,
     "metadata": {},
     "output_type": "execute_result"
    }
   ],
   "source": [
    "importances_rf.sort_values(ascending = False).head(10)\n",
    "#X9 X8, X7 are the most important. \n",
    "\n",
    "#We can consider dropping all the not useful columns in the future. "
   ]
  },
  {
   "cell_type": "markdown",
   "metadata": {},
   "source": [
    "* code block below is to use randomizedSearchCV to find the optimal hyperparameters\n",
    "* However, running takes more than 8 hours and still running without outputs. \n",
    "* As such, I manually compared RSME of CV,test and train and find relatively optimal hyperparameters."
   ]
  },
  {
   "cell_type": "code",
   "execution_count": 64,
   "metadata": {},
   "outputs": [
    {
     "data": {
      "text/plain": [
       "\"\\nrf = RandomForestRegressor()\\nn_estimators = [50,100,200]\\nmax_features = ['auto', 'sqrt']\\nmax_depth = [2,5,10]\\nmin_samples_split = [2, 5, 10]\\nmin_samples_leaf = [1, 2, 4]\\nbootstrap = [True, False]\\nrandom_grid = {'n_estimators': n_estimators,\\n               'max_features': max_features,\\n               'max_depth': max_depth,\\n               'min_samples_split': min_samples_split,\\n               'min_samples_leaf': min_samples_leaf,\\n               'bootstrap': bootstrap}\\nrf_random = RandomizedSearchCV(estimator = rf, param_distributions = random_grid, n_iter = 100, cv = 3, verbose=2, random_state=42, n_jobs = -1)\\nrf_random.fit(x_train, y_train)\\nrf_random.best_params_               \\n\""
      ]
     },
     "execution_count": 64,
     "metadata": {},
     "output_type": "execute_result"
    }
   ],
   "source": [
    "'''\n",
    "rf = RandomForestRegressor()\n",
    "n_estimators = [50,100,200]\n",
    "max_features = ['auto', 'sqrt']\n",
    "max_depth = [2,5,10]\n",
    "min_samples_split = [2, 5, 10]\n",
    "min_samples_leaf = [1, 2, 4]\n",
    "bootstrap = [True, False]\n",
    "random_grid = {'n_estimators': n_estimators,\n",
    "               'max_features': max_features,\n",
    "               'max_depth': max_depth,\n",
    "               'min_samples_split': min_samples_split,\n",
    "               'min_samples_leaf': min_samples_leaf,\n",
    "               'bootstrap': bootstrap}\n",
    "rf_random = RandomizedSearchCV(estimator = rf, param_distributions = random_grid, n_iter = 100, cv = 3, verbose=2, random_state=42, n_jobs = -1)\n",
    "rf_random.fit(x_train, y_train)\n",
    "rf_random.best_params_               \n",
    "'''"
   ]
  },
  {
   "cell_type": "markdown",
   "metadata": {},
   "source": [
    "# Model 2: XGBoost "
   ]
  },
  {
   "cell_type": "markdown",
   "metadata": {},
   "source": [
    "* Model running for hours without any responses. "
   ]
  },
  {
   "cell_type": "code",
   "execution_count": 65,
   "metadata": {},
   "outputs": [
    {
     "data": {
      "text/plain": [
       "\"\\nimport xgboost as xgb\\nmodel = xgb.XGBClassifier(objective ='binary:logistic', colsample_bytree = 0.3, learning_rate = 0.1,\\n                max_depth = 5, alpha = 10, n_estimators = 50, eval_metric = 'rmse', \\n                early_stopping_rounds=100, \\n                verbose_eval=100)\\n    \\npred_test_y  = model.fit(x_train,y_train)\\n\""
      ]
     },
     "execution_count": 65,
     "metadata": {},
     "output_type": "execute_result"
    }
   ],
   "source": [
    "'''\n",
    "import xgboost as xgb\n",
    "model = xgb.XGBClassifier(objective ='binary:logistic', colsample_bytree = 0.3, learning_rate = 0.1,\n",
    "                max_depth = 5, alpha = 10, n_estimators = 50, eval_metric = 'rmse', \n",
    "                early_stopping_rounds=100, \n",
    "                verbose_eval=100)\n",
    "    \n",
    "pred_test_y  = model.fit(x_train,y_train)\n",
    "'''"
   ]
  },
  {
   "cell_type": "code",
   "execution_count": 66,
   "metadata": {},
   "outputs": [
    {
     "data": {
      "text/plain": [
       "\"\\nfrom sklearn.metrics import mean_squared_error as MSE\\nmse_test_XGB = MSE(y_test, y_rf_pred)\\nrmse_test_XGB = mse_test_XGB**(1/2)\\nprint('Test set RMSE of rf: {:.15f}'.format(rmse_test_XGB))\\n\\n\""
      ]
     },
     "execution_count": 66,
     "metadata": {},
     "output_type": "execute_result"
    }
   ],
   "source": [
    "'''\n",
    "from sklearn.metrics import mean_squared_error as MSE\n",
    "mse_test_XGB = MSE(y_test, y_rf_pred)\n",
    "rmse_test_XGB = mse_test_XGB**(1/2)\n",
    "print('Test set RMSE of rf: {:.15f}'.format(rmse_test_XGB))\n",
    "\n",
    "'''"
   ]
  },
  {
   "cell_type": "markdown",
   "metadata": {},
   "source": [
    "# Model 3: GradientBoosting"
   ]
  },
  {
   "cell_type": "code",
   "execution_count": 73,
   "metadata": {},
   "outputs": [],
   "source": [
    "from sklearn.ensemble import GradientBoostingRegressor\n",
    "gb = GradientBoostingRegressor(max_depth=3,n_estimators=200,random_state=2)"
   ]
  },
  {
   "cell_type": "code",
   "execution_count": 74,
   "metadata": {},
   "outputs": [
    {
     "name": "stdout",
     "output_type": "stream",
     "text": [
      "Test set RMSE of gb: 0.016620288307501\n"
     ]
    }
   ],
   "source": [
    "# Test RMSE \n",
    "gb.fit(x_train, y_train)\n",
    "y_pred_Gboost = gb.predict(x_test)\n",
    "from sklearn.metrics import mean_squared_error as MSE\n",
    "mse_test_Gboost = MSE(y_test, y_pred_Gboost)\n",
    "rmse_test_Gboost = mse_test_Gboost**(1/2)\n",
    "print('Test set RMSE of gb: {:.15f}'.format(rmse_test_Gboost))"
   ]
  },
  {
   "cell_type": "code",
   "execution_count": 75,
   "metadata": {},
   "outputs": [
    {
     "name": "stdout",
     "output_type": "stream",
     "text": [
      "Train set RMSE of gb: 0.016571786984900\n"
     ]
    }
   ],
   "source": [
    "# Train RMSE \n",
    "gb.fit(x_train, y_train)\n",
    "y_train_pred = gb.predict(x_train)\n",
    "mse_train_Gboost = MSE(y_train, y_train_pred)\n",
    "rmse_train_Gboost = mse_train_Gboost**(1/2)\n",
    "print('Train set RMSE of gb: {:.15f}'.format(rmse_train_Gboost))"
   ]
  },
  {
   "cell_type": "code",
   "execution_count": 76,
   "metadata": {},
   "outputs": [
    {
     "name": "stdout",
     "output_type": "stream",
     "text": [
      "CV RMSE gb: 0.02\n"
     ]
    }
   ],
   "source": [
    "# CV RMSE\n",
    "from sklearn.model_selection import cross_val_score\n",
    "MSE_CV_scores_gb = - cross_val_score(gb, x_train, y_train, cv=10, \n",
    "                                  scoring='neg_mean_squared_error', \n",
    "                                  n_jobs=-1) \n",
    "RMSE_CV_gb = (MSE_CV_scores_gb.mean())**(1/2)\n",
    "print('CV RMSE gb: {:.2f}'.format(RMSE_CV_gb))   "
   ]
  },
  {
   "cell_type": "markdown",
   "metadata": {},
   "source": [
    "* By comparing three RMSE score above under gb model (GradientBoostingRegressor(max_depth=4,n_estimators=200,random_state=2), three RMSE are super close to each other, but CV 0.02 is slightly higher than 0.016 which indicates that the hyperparameters may need some tuning to address the overfitting issue. (CV > Test)\n",
    "\n",
    "* As such, I changed the hyperparameters to ensure CV Test Train RMSE are close enough to each other to rechieve the optimal hyperparameters."
   ]
  },
  {
   "cell_type": "markdown",
   "metadata": {},
   "source": [
    "# Model 4: LinearRegression "
   ]
  },
  {
   "cell_type": "code",
   "execution_count": 77,
   "metadata": {},
   "outputs": [
    {
     "name": "stdout",
     "output_type": "stream",
     "text": [
      "Train set RMSE of LR: 0.020156029708478\n"
     ]
    }
   ],
   "source": [
    "#Train set RMSE \n",
    "from sklearn.linear_model import LinearRegression\n",
    "from sklearn.model_selection import StratifiedKFold\n",
    "import math\n",
    "lr = LinearRegression()\n",
    "lr.fit(x_train, y_train)\n",
    "y_lg_pred_train =  lr.predict(x_train)\n",
    "RMSE_lr_train = MSE(y_lg_pred_train, y_train)\n",
    "RMSE_lr_train = RMSE_lr_train**(1/2)\n",
    "print('Train set RMSE of LR: {:.15f}'.format(RMSE_lr_train))"
   ]
  },
  {
   "cell_type": "code",
   "execution_count": 78,
   "metadata": {},
   "outputs": [
    {
     "name": "stdout",
     "output_type": "stream",
     "text": [
      "Train set RMSE of LR: 0.020100877699558\n"
     ]
    }
   ],
   "source": [
    "#Test set RMSE \n",
    "lr = LinearRegression()\n",
    "lr.fit(x_train, y_train)\n",
    "y_lg_pred_test =  lr.predict(x_test)\n",
    "RMSE_lr_test = MSE(y_lg_pred_test, y_test)\n",
    "RMSE_lr_test = RMSE_lr_test**(1/2)\n",
    "print('Train set RMSE of LR: {:.15f}'.format(RMSE_lr_test))"
   ]
  },
  {
   "cell_type": "code",
   "execution_count": 79,
   "metadata": {},
   "outputs": [
    {
     "name": "stdout",
     "output_type": "stream",
     "text": [
      "CV RMSE gb: 0.02\n"
     ]
    }
   ],
   "source": [
    "# CV RMSE\n",
    "MSE_CV_scores_lr = - cross_val_score(lr, x_train, y_train, cv=10, \n",
    "                                  scoring='neg_mean_squared_error', \n",
    "                                  n_jobs=-1) \n",
    "RMSE_CV_lr = (MSE_CV_scores_lr.mean())**(1/2)\n",
    "print('CV RMSE gb: {:.2f}'.format(RMSE_CV_lr))  "
   ]
  },
  {
   "cell_type": "markdown",
   "metadata": {},
   "source": [
    "* By comparing three RMSE score above, three RMSE are super close to each other, which indicates that the hyperparameters were good enough without tunning.\n",
    "\n",
    "* Although the RMSE is low enough, the QQ plot below show case that linear regression did not meet the normality assumption.\n",
    "* As such, will not consider this model further"
   ]
  },
  {
   "cell_type": "code",
   "execution_count": 80,
   "metadata": {},
   "outputs": [
    {
     "data": {
      "image/png": "[encoded data removed]",
      "text/plain": [
       "<Figure size 432x288 with 1 Axes>"
      ]
     },
     "metadata": {},
     "output_type": "display_data"
    }
   ],
   "source": [
    "from statsmodels.graphics.gofplots import qqplot\n",
    "from matplotlib import pyplot\n",
    "qqplot(y_lg_pred_test, line='s')\n",
    "pyplot.show()"
   ]
  },
  {
   "cell_type": "markdown",
   "metadata": {},
   "source": [
    "#  Model 5: Decision Tree"
   ]
  },
  {
   "cell_type": "code",
   "execution_count": 67,
   "metadata": {},
   "outputs": [
    {
     "name": "stdout",
     "output_type": "stream",
     "text": [
      "Trian Set RMSE dt: 0.022773583888544224\n"
     ]
    }
   ],
   "source": [
    "#Train RMSE\n",
    "\n",
    "from sklearn.tree import DecisionTreeRegressor\n",
    "dt = DecisionTreeRegressor(max_depth=5,min_samples_leaf=0.13,random_state=3)\n",
    "dt.fit(x_train, y_train)\n",
    "y_pred_dt_train = dt.predict(x_train)\n",
    "RMSE_train_df = MSE(y_pred_dt_train, y_train)**(1/2)\n",
    "print('Trian Set RMSE dt: {}'.format(RMSE_train_df))  "
   ]
  },
  {
   "cell_type": "code",
   "execution_count": 68,
   "metadata": {},
   "outputs": [
    {
     "name": "stdout",
     "output_type": "stream",
     "text": [
      "Test Set RMSE dt: 0.022791507892349638\n"
     ]
    }
   ],
   "source": [
    "#Test RMSE\n",
    "\n",
    "dt = DecisionTreeRegressor(max_depth=5,min_samples_leaf=0.13,random_state=3)\n",
    "dt.fit(x_train, y_train)\n",
    "y_pred_dt_test = dt.predict(x_test)\n",
    "RMSE_test_df = MSE(y_pred_dt_test, y_test)**(1/2)\n",
    "print('Test Set RMSE dt: {}'.format(RMSE_test_df))  "
   ]
  },
  {
   "cell_type": "code",
   "execution_count": 69,
   "metadata": {},
   "outputs": [
    {
     "name": "stdout",
     "output_type": "stream",
     "text": [
      "CV RMSE dt: 0.02277678768101337\n"
     ]
    }
   ],
   "source": [
    "# CV RMSE\n",
    "MSE_CV_scores_dt = - cross_val_score(dt, x_train, y_train, cv=10, scoring='neg_mean_squared_error', n_jobs=-1) \n",
    "RMSE_CV_dt = (MSE_CV_scores_dt.mean())**(1/2)\n",
    "print('CV RMSE dt: {}'.format(RMSE_CV_dt))  "
   ]
  },
  {
   "cell_type": "markdown",
   "metadata": {},
   "source": [
    "* Based on the comparison above all three RMSE above, CV is >> than both Test and train. As such, this is an problem of overfitting. \n",
    "* Considering using the randomsearchCV to find the optimal parameters below "
   ]
  },
  {
   "cell_type": "code",
   "execution_count": 70,
   "metadata": {},
   "outputs": [
    {
     "name": "stdout",
     "output_type": "stream",
     "text": [
      "Fitting 5 folds for each of 10 candidates, totalling 50 fits\n"
     ]
    },
    {
     "name": "stderr",
     "output_type": "stream",
     "text": [
      "[Parallel(n_jobs=1)]: Using backend SequentialBackend with 1 concurrent workers.\n",
      "[Parallel(n_jobs=1)]: Done  50 out of  50 | elapsed:  1.7min finished\n"
     ]
    },
    {
     "data": {
      "text/plain": [
       "{'min_samples_split': 2, 'max_depth': 10}"
      ]
     },
     "execution_count": 70,
     "metadata": {},
     "output_type": "execute_result"
    }
   ],
   "source": [
    "dt = DecisionTreeRegressor()\n",
    "param_grid = {'max_depth': range(2,16,2),\n",
    "              'min_samples_split': range(2,16,2)}\n",
    "clf_random = RandomizedSearchCV(dt, param_grid,cv=5 , n_jobs=1, verbose=1)\n",
    "clf_random.fit(x_train,y_train)\n",
    "clf_random.best_params_"
   ]
  },
  {
   "cell_type": "code",
   "execution_count": 72,
   "metadata": {},
   "outputs": [
    {
     "name": "stdout",
     "output_type": "stream",
     "text": [
      "Test Set RMSE dt: 0.017168028365555008\n"
     ]
    }
   ],
   "source": [
    "# Using the optimal parameters from the randomizedsearchCV above to Test RMSE\n",
    "\n",
    "dt = DecisionTreeRegressor(min_samples_split = 10, max_depth = 10)\n",
    "dt.fit(x_train, y_train)\n",
    "y_pred_dt_test = dt.predict(x_test)\n",
    "RMSE_test_df = MSE(y_pred_dt_test, y_test)**(1/2)\n",
    "print('Test Set RMSE dt: {}'.format(RMSE_test_df))  "
   ]
  },
  {
   "cell_type": "markdown",
   "metadata": {},
   "source": [
    "# Models comparison summary"
   ]
  },
  {
   "cell_type": "markdown",
   "metadata": {},
   "source": [
    "* All the models above are relatively equally working well for this dataset. Overall, Gradient Boost returned the more robust results with lower RMSE for this regression problem. \n",
    "\n",
    "* Model 1 - Random forest \n",
    "    * Pro: Tree based are easy to understand and interpret. The results are good on a large dataset with high accuracy on linear and nonlinear problem by boostrapping small sets and features to fit the data. \n",
    "    * Con: Takes time to find the optimal hyperparameters as the RandomizedsearchCV works slowly in a big dataset. \n",
    "    \n",
    "* Model 2 - XGBoost  \n",
    "    * Pro: N/A - Supposed to be a good candidate for this dataset. \n",
    "    * Con: Slow for big dataset, complex algorithms\n",
    "\n",
    "* Model 3 - Gradient Boost \n",
    "    * Pro: Second hihgest score and lowests RMSE indicates good model. It takes several models are trianed sequentially with each model learning from the previous errors.It is also easy to interpret. \n",
    "    * Con: Overfitting problem still exist that may need to find the optimal hyperparameters to narrow down the gap between test, train and CV. Alternatively, we can use the randomizedsearchCV but worked slowly on the big data set. \n",
    "    \n",
    "* Model 4 - Linear regression\n",
    "    * Pro: Simply algorithm, Easy to implement and interpret. No too many assumption and parameters to tune the models.\n",
    "    * Con: Model is too simplified and the data violates the normality assumption of normal distribution. \n",
    "\n",
    "* Model 5 - Decision tree\n",
    "    * Pro: Tree model is easy to implement and interpret. Best RMSE score among all four models. No too many assumptions and parameters to tune the models.\n",
    "    * Con: Usually the result is not as good as random forest due to decision tree is a single tree model.\n",
    "    "
   ]
  },
  {
   "cell_type": "markdown",
   "metadata": {},
   "source": [
    "# Final Conclusion:\n"
   ]
  },
  {
   "cell_type": "code",
   "execution_count": 81,
   "metadata": {},
   "outputs": [],
   "source": [
    "a = df_test.columns.tolist()\n",
    "x_holdout = a[1:len(a)] #remove X1 from the test for x_holdout"
   ]
  },
  {
   "cell_type": "code",
   "execution_count": 82,
   "metadata": {},
   "outputs": [],
   "source": [
    "final_model = DecisionTreeRegressor(min_samples_split = 10, max_depth = 10)\n",
    "final_model.fit(x_train,y_train)\n",
    "y_pred_holdout = final_model.predict(df_test.loc[:,x_holdout])"
   ]
  },
  {
   "cell_type": "code",
   "execution_count": 83,
   "metadata": {},
   "outputs": [],
   "source": [
    "result = pd.DataFrame(y_pred_holdout)\n",
    "result.to_csv('result_Yiyan_Wan.csv')"
   ]
  },
  {
   "cell_type": "markdown",
   "metadata": {},
   "source": [
    "# THE END "
   ]
  }
 ],
 "metadata": {
  "kernelspec": {
   "display_name": "Python 3",
   "language": "python",
   "name": "python3"
  },
  "language_info": {
   "codemirror_mode": {
    "name": "ipython",
    "version": 3
   },
   "file_extension": ".py",
   "mimetype": "text/x-python",
   "name": "python",
   "nbconvert_exporter": "python",
   "pygments_lexer": "ipython3",
   "version": "3.7.5"
  }
 },
 "nbformat": 4,
 "nbformat_minor": 4
}
